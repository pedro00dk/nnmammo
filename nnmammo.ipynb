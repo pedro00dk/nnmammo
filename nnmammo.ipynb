{
 "cells": [
  {
   "cell_type": "markdown",
   "metadata": {},
   "source": [
    "# Analise de configuração da rede MLP da base Mammography\n",
    "#### Equipe:\n",
    "* João Ricardo dos Santos (jrs4)\n",
    "* Pedro Henrique Sousa de Moraes (phsm)"
   ]
  },
  {
   "cell_type": "markdown",
   "metadata": {},
   "source": [
    "Leitura da base de dados"
   ]
  },
  {
   "cell_type": "code",
   "execution_count": null,
   "metadata": {
    "collapsed": false
   },
   "outputs": [],
   "source": [
    "import numpy as np\n",
    "import pandas as pd\n",
    "from imblearn.over_sampling import RandomOverSampler, SMOTE\n",
    "from imblearn.under_sampling import ClusterCentroids, RandomUnderSampler\n",
    "\n",
    "from extended_support import cross_validate_model_configuration_variations_scores, \\\n",
    "    plot_configuration_variation_cross_validation_scores_info, \\\n",
    "    plot_samples_configuration_variations_cross_validation_scores_means, ModMLPClassifier\n",
    "\n",
    "print('reading database')\n",
    "\n",
    "db_file = 'database.csv'\n",
    "\n",
    "df = pd.read_csv(db_file, header=None)"
   ]
  },
  {
   "cell_type": "code",
   "execution_count": null,
   "metadata": {
    "collapsed": false
   },
   "outputs": [],
   "source": [
    "print('spliting database in folds')\n",
    "\n",
    "k_folds = 10\n",
    "\n",
    "negative_instances = df.values[(df.values[:, -1:] == 0).reshape(-1)][:, :-1]\n",
    "positive_instances = df.values[(df.values[:, -1:] == 1).reshape(-1)][:, :-1]\n",
    "np.random.shuffle(negative_instances)\n",
    "np.random.shuffle(positive_instances)\n",
    "print('negatives: %d, positives: %d' % (len(positive_instances), len(negative_instances)))\n",
    "\n",
    "folds_negative_instances = np.array_split(negative_instances, k_folds)\n",
    "folds_positive_instances = np.array_split(positive_instances, k_folds)\n",
    "\n",
    "folds = [(np.concatenate((folds_negative_instances[i], folds_positive_instances[i])),\n",
    "          np.concatenate((np.zeros(len(folds_negative_instances[i])), np.ones(len(folds_positive_instances[i])))))\n",
    "         for i in range(k_folds)]\n",
    "\n",
    "for index, (instances, classes) in enumerate(folds):\n",
    "    print('\\t fold %d contains %d instances, %d positives, %d negatives' %\n",
    "          (index, len(instances), (classes == 0).sum(), (classes == 1).sum()))"
   ]
  },
  {
   "cell_type": "markdown",
   "metadata": {},
   "source": [
    "Resampling da amostra usando algoritmos de under sampling e over sampling, os algoritmos usados foram\n",
    "RandomOverSampler, SMOTE, ClusterCentroids (k-means) e RandomUnderSampler"
   ]
  },
  {
   "cell_type": "code",
   "execution_count": null,
   "metadata": {
    "collapsed": false
   },
   "outputs": [],
   "source": [
    "print('creating re-sampled fold copies')\n",
    "samplers = {\n",
    "    'rover': RandomOverSampler(), 'smote': SMOTE(),\n",
    "    'kmeans': ClusterCentroids(), 'runder': RandomUnderSampler()\n",
    "}\n",
    "samples_folds = {name: [sampler.fit_sample(*fold) for fold in folds] for name, sampler in samplers.items()}\n",
    "for name, folds in samples_folds.items():\n",
    "    print('sampler %s fold sizes %s' % (name, [len(fold[0]) for fold in folds]))"
   ]
  },
  {
   "cell_type": "markdown",
   "metadata": {},
   "source": [
    "Default configuration and variations for tests"
   ]
  },
  {
   "cell_type": "code",
   "execution_count": null,
   "metadata": {
    "collapsed": false
   },
   "outputs": [],
   "source": [
    "configuration = {\n",
    "    'hidden_layer_sizes': (8,),\n",
    "    'activation': 'logistic',\n",
    "    'solver': 'sgd',\n",
    "    'learning_rate': 'constant',\n",
    "    'learning_rate_init': 0.001,\n",
    "    'max_iter': 1600,\n",
    "    'early_stopping': True,\n",
    "    # non variable configurations\n",
    "    'train_folds': k_folds - 1,  # number of training folds (1 will be choose to validate)\n",
    "    'warm_start': False  # re-initializes the network in consecutive fit calls\n",
    "\n",
    "}\n",
    "hidden_layer_sizes = [(x,) for x in range(1, 21)]\n",
    "activation = ['logistic', 'tanh', 'relu']\n",
    "solver = ['lbfgs', 'sgd', 'adam']\n",
    "learning_rate = ['constant', 'invscaling', 'adaptive']\n",
    "learning_rate_init = [0.0001, 0.0005, 0.001, 0.005, 0.01, 0.05]\n",
    "max_iter = [200, 400, 800, 1600, 3200, 6400, ]\n",
    "early_stopping = [False, True]\n",
    "\n",
    "model_class = ModMLPClassifier"
   ]
  },
  {
   "cell_type": "markdown",
   "metadata": {},
   "source": [
    "#### Investigar diferentes topologias da rede e diferentes valores de parâmetros (básico)\n",
    "* Tamanho do conjunto de dados\n",
    "* Número de unidades intermediárias\n",
    "* Influência da taxa de aprendizagem no treinamento\n",
    "* Overfitting (memorização do conjunto de treinamento)\n",
    "\n",
    "#### Investigar parâmetros adicionais\n",
    "* Algoritmo\n",
    "* Função de ativação\n",
    "* Taxa adaptativa\n",
    "* Método de agrupamento para redução do conjunto"
   ]
  },
  {
   "cell_type": "code",
   "execution_count": null,
   "metadata": {
    "collapsed": false
   },
   "outputs": [],
   "source": [
    "samples_scores = {}\n",
    "for (name, sample_folds) in samples_folds.items():\n",
    "    print('sampler %s:' % name)\n",
    "    samples_scores[name] = cross_validate_model_configuration_variations_scores(sample_folds, folds, model_class,\n",
    "                                                                                configuration, 'hidden_layer_sizes',\n",
    "                                                                                hidden_layer_sizes, verbose=True)\n",
    "\n",
    "plot_samples_configuration_variations_cross_validation_scores_means(samples_scores, hidden_layer_sizes,\n",
    "                                                                    'hidden layer sizes scores', 'sizes')\n",
    "for name, configurations_fold_scores in samples_scores.items():\n",
    "    plot_configuration_variation_cross_validation_scores_info(configurations_fold_scores, hidden_layer_sizes,\n",
    "                                                              '%s specific hidden layer sizes results' % name,\n",
    "                                                              'sizes')"
   ]
  },
  {
   "cell_type": "code",
   "execution_count": null,
   "metadata": {
    "collapsed": false
   },
   "outputs": [],
   "source": [
    "samples_scores = {}\n",
    "requirements = {'solver': 'sgd', 'power_t': 1}\n",
    "for (name, sample_folds) in samples_folds.items():\n",
    "    print('sampler %s:' % name)\n",
    "    samples_scores[name] = cross_validate_model_configuration_variations_scores(sample_folds, folds, model_class,\n",
    "                                                                                configuration, 'learning_rate',\n",
    "                                                                                learning_rate, requirements,\n",
    "                                                                                verbose=True)\n",
    "\n",
    "plot_samples_configuration_variations_cross_validation_scores_means(samples_scores, learning_rate,\n",
    "                                                                    'learning rate rules scores', 'rules')\n",
    "for name, configurations_fold_scores in samples_scores.items():\n",
    "    plot_configuration_variation_cross_validation_scores_info(configurations_fold_scores, learning_rate,\n",
    "                                                              '%s specific learning rate rules results' % name,\n",
    "                                                              'rules')"
   ]
  }
 ],
 "metadata": {},
 "nbformat": 4,
 "nbformat_minor": 2
}
