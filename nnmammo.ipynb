{
 "cells": [
  {
   "cell_type": "markdown",
   "metadata": {},
   "source": [
    "# Analise de configuração da rede MLP da base Mammography\n",
    "#### Equipe:\n",
    "* João Ricardo dos Santos (jrs4)\n",
    "* Pedro Henrique Sousa de Moraes (phsm)"
   ]
  },
  {
   "cell_type": "markdown",
   "metadata": {},
   "source": [
    "Leitura da base de dados"
   ]
  },
  {
   "cell_type": "code",
   "execution_count": null,
   "metadata": {
    "collapsed": false
   },
   "outputs": [],
   "source": [
    "import numpy as np\n",
    "\n",
    "db = ([], [])  # (instances, classes)\n",
    "with open('mammo.csv') as db_file:\n",
    "    for line in db_file:\n",
    "        instance = np.array([float(attribute)\n",
    "                             for attribute in line.split(',')])\n",
    "        db[0].append(instance[:len(instance) - 1])\n",
    "        db[1].append(instance[len(instance) - 1])\n",
    "\n",
    "print('negatives: %d, positives: %d' % (db[1].count(0), db[1].count(1)))"
   ]
  },
  {
   "cell_type": "markdown",
   "metadata": {},
   "source": [
    "Resampling da amostra usando algoritmos de under sampling e over sampling, os algoritmos usados foram RandomOverSampler, SMOTE, AllKNN e RandomUnderSampler"
   ]
  },
  {
   "cell_type": "code",
   "execution_count": null,
   "metadata": {
    "collapsed": false
   },
   "outputs": [],
   "source": [
    "from imblearn.over_sampling import RandomOverSampler, SMOTE\n",
    "from imblearn.under_sampling import AllKNN, RandomUnderSampler\n",
    "\n",
    "samplers = {\n",
    "    'rover': RandomOverSampler(), 'smote': SMOTE(),\n",
    "    'aknn': AllKNN(n_neighbors=180, n_jobs=-1), 'runder': RandomUnderSampler()\n",
    "}\n",
    "db_samples = {name: sampler.fit_sample(*db)\n",
    "              for name, sampler in samplers.items()}\n",
    "for name, db_sample in db_samples.items():\n",
    "    print('%s: negatives: %d, positives: %d' %\n",
    "          (name, (db_sample[1] == 0).sum(), (db_sample[1] == 1).sum()))"
   ]
  },
  {
   "cell_type": "code",
   "execution_count": null,
   "metadata": {
    "collapsed": false
   },
   "outputs": [],
   "source": [
    "configuration = {\n",
    "    'hidden_layer_sizes': (8,),\n",
    "    'activation': 'logistic',\n",
    "    'solver': 'sgd',\n",
    "    'learning_rate': 'constant',\n",
    "    'learning_rate_init': 0.001,\n",
    "    'max_iter': 1600,\n",
    "    'early_stopping': True,\n",
    "    'validation_fraction': 1 / 9\n",
    "}\n",
    "hidden_layer_sizes = [(x,) for x in range(1, 21)]\n",
    "activation = ['logistic', 'tanh', 'relu']\n",
    "solver = ['lbfgs', 'sgd', 'adam']\n",
    "learning_rate = ['constant', 'invscaling', 'adaptive']\n",
    "learning_rate_init = [0.0001, 0.0005, 0.001, 0.005, 0.01, 0.05]\n",
    "max_iter = [200, 400, 800, 1600, 3200, 6400, ]\n",
    "early_stopping = [False, True]"
   ]
  },
  {
   "cell_type": "markdown",
   "metadata": {},
   "source": [
    "#### Investigar diferentes topologias da rede e diferentes valores de parâmetros (básico)\n",
    "* Tamanho do conjunto de dados\n",
    "* Número de unidades intermediárias\n",
    "* Influência da taxa de aprendizagem no treinamento\n",
    "* Overfitting (memorização do conjunto de treinamento)\n",
    "\n",
    "#### Investigar parâmetros adicionais\n",
    "* Algoritmo\n",
    "* Função de ativação\n",
    "* Taxa adaptativa\n",
    "* Método de agrupamento para redução do conjunto"
   ]
  },
  {
   "cell_type": "code",
   "execution_count": null,
   "metadata": {
    "collapsed": false
   },
   "outputs": [],
   "source": [
    "import itertools\n",
    "\n",
    "import matplotlib.pyplot as plt\n",
    "\n",
    "from sklearn.model_selection import StratifiedKFold\n",
    "from sklearn.model_selection import cross_val_score\n",
    "from sklearn.neural_network import MLPClassifier\n",
    "\n",
    "skf = StratifiedKFold(n_splits=10, shuffle=True)\n",
    "hidden_layer_sizes_means = {}\n",
    "for (name, db_sample), size in itertools.product(db_samples.items(), hidden_layer_sizes):\n",
    "    configuration_copy = configuration.copy()\n",
    "    configuration_copy['hidden_layer_sizes'] = size\n",
    "    model = MLPClassifier(**configuration_copy)\n",
    "    score = cross_val_score(model, *db_sample, cv=skf, verbose=False)\n",
    "    if name not in hidden_layer_sizes_means:\n",
    "        hidden_layer_sizes_means[name] = []\n",
    "    hidden_layer_sizes_means[name].append(score.mean())\n",
    "    print('%s %s: %s' % (name, size, score))"
   ]
  },
  {
   "cell_type": "code",
   "execution_count": null,
   "metadata": {
    "collapsed": false
   },
   "outputs": [],
   "source": [
    "import matplotlib.pyplot as plt\n",
    "\n",
    "plt.clf()\n",
    "x = [*range(len(hidden_layer_sizes))]\n",
    "plt.xticks(x, hidden_layer_sizes)\n",
    "for name, means in hidden_layer_sizes_means.items():\n",
    "    plt.plot(x, means, label=name, marker='x')\n",
    "plt.title('hidden layer sizes scores per sampling configuration')\n",
    "plt.xlabel('sizes')\n",
    "plt.ylabel('score')\n",
    "plt.legend()\n",
    "plt.grid()\n",
    "plt.show()"
   ]
  },
  {
   "cell_type": "code",
   "execution_count": null,
   "metadata": {
    "collapsed": false
   },
   "outputs": [],
   "source": [
    "learning_rate_means = {}\n",
    "for (name, db_sample), learning_rate_rule in itertools.product(db_samples.items(), learning_rate):\n",
    "    configuration_copy = configuration.copy()\n",
    "    \n",
    "    # required for learning rate rules\n",
    "    configuration_copy['solver']: 'sgd'\n",
    "    configuration_copy['power_t']: 1\n",
    "\n",
    "    configuration_copy['learning_rate'] = learning_rate_rule\n",
    "    model = MLPClassifier(**configuration_copy)\n",
    "    score = cross_val_score(model, *db_sample, cv=skf, verbose=False)\n",
    "    if name not in learning_rate_means:\n",
    "        learning_rate_means[name] = []\n",
    "    learning_rate_means[name].append(score.mean())\n",
    "    print('%s %s: %s' % (name, learning_rate_rule, score))"
   ]
  },
  {
   "cell_type": "code",
   "execution_count": null,
   "metadata": {
    "collapsed": false
   },
   "outputs": [],
   "source": [
    "plt.clf()\n",
    "x = [*range(len(learning_rate))]\n",
    "plt.xticks(x, learning_rate)\n",
    "for name, means in learning_rate_means.items():\n",
    "    plt.plot(x, means, label=name, marker='x')\n",
    "plt.title('learning rate rules scores per sampling configuration')\n",
    "plt.xlabel('rules')\n",
    "plt.ylabel('score')\n",
    "plt.legend()\n",
    "plt.grid()\n",
    "plt.show()"
   ]
  }
 ],
 "metadata": {},
 "nbformat": 4,
 "nbformat_minor": 2
}
